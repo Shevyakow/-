{
 "cells": [
  {
   "cell_type": "code",
   "execution_count": 190,
   "id": "71c1dfa2",
   "metadata": {
    "scrolled": true
   },
   "outputs": [],
   "source": [
    "import numpy as np\n",
    "import pandas as pd \n",
    "import statsmodels.formula.api as smf \n",
    "import seaborn as sns \n",
    "import scipy.stats as stats\n",
    "import io\n",
    "import re"
   ]
  },
  {
   "cell_type": "code",
   "execution_count": 162,
   "id": "71461a6a",
   "metadata": {},
   "outputs": [
    {
     "data": {
      "text/html": [
       "<div>\n",
       "<style scoped>\n",
       "    .dataframe tbody tr th:only-of-type {\n",
       "        vertical-align: middle;\n",
       "    }\n",
       "\n",
       "    .dataframe tbody tr th {\n",
       "        vertical-align: top;\n",
       "    }\n",
       "\n",
       "    .dataframe thead th {\n",
       "        text-align: right;\n",
       "    }\n",
       "</style>\n",
       "<table border=\"1\" class=\"dataframe\">\n",
       "  <thead>\n",
       "    <tr style=\"text-align: right;\">\n",
       "      <th></th>\n",
       "      <th>age</th>\n",
       "      <th>sex</th>\n",
       "      <th>bmi</th>\n",
       "      <th>children</th>\n",
       "      <th>smoker</th>\n",
       "      <th>region</th>\n",
       "      <th>log_charges</th>\n",
       "    </tr>\n",
       "  </thead>\n",
       "  <tbody>\n",
       "    <tr>\n",
       "      <th>0</th>\n",
       "      <td>19</td>\n",
       "      <td>0</td>\n",
       "      <td>27.900</td>\n",
       "      <td>0</td>\n",
       "      <td>yes</td>\n",
       "      <td>southwest</td>\n",
       "      <td>9.734176</td>\n",
       "    </tr>\n",
       "    <tr>\n",
       "      <th>1</th>\n",
       "      <td>18</td>\n",
       "      <td>1</td>\n",
       "      <td>33.770</td>\n",
       "      <td>1</td>\n",
       "      <td>no</td>\n",
       "      <td>southeast</td>\n",
       "      <td>7.453302</td>\n",
       "    </tr>\n",
       "    <tr>\n",
       "      <th>2</th>\n",
       "      <td>28</td>\n",
       "      <td>1</td>\n",
       "      <td>33.000</td>\n",
       "      <td>3</td>\n",
       "      <td>no</td>\n",
       "      <td>southeast</td>\n",
       "      <td>8.400538</td>\n",
       "    </tr>\n",
       "    <tr>\n",
       "      <th>3</th>\n",
       "      <td>33</td>\n",
       "      <td>1</td>\n",
       "      <td>22.705</td>\n",
       "      <td>0</td>\n",
       "      <td>no</td>\n",
       "      <td>northwest</td>\n",
       "      <td>9.998092</td>\n",
       "    </tr>\n",
       "    <tr>\n",
       "      <th>4</th>\n",
       "      <td>32</td>\n",
       "      <td>1</td>\n",
       "      <td>28.880</td>\n",
       "      <td>0</td>\n",
       "      <td>no</td>\n",
       "      <td>northwest</td>\n",
       "      <td>8.260197</td>\n",
       "    </tr>\n",
       "    <tr>\n",
       "      <th>...</th>\n",
       "      <td>...</td>\n",
       "      <td>...</td>\n",
       "      <td>...</td>\n",
       "      <td>...</td>\n",
       "      <td>...</td>\n",
       "      <td>...</td>\n",
       "      <td>...</td>\n",
       "    </tr>\n",
       "    <tr>\n",
       "      <th>1333</th>\n",
       "      <td>50</td>\n",
       "      <td>1</td>\n",
       "      <td>30.970</td>\n",
       "      <td>3</td>\n",
       "      <td>no</td>\n",
       "      <td>northwest</td>\n",
       "      <td>9.268661</td>\n",
       "    </tr>\n",
       "    <tr>\n",
       "      <th>1334</th>\n",
       "      <td>18</td>\n",
       "      <td>0</td>\n",
       "      <td>31.920</td>\n",
       "      <td>0</td>\n",
       "      <td>no</td>\n",
       "      <td>northeast</td>\n",
       "      <td>7.698927</td>\n",
       "    </tr>\n",
       "    <tr>\n",
       "      <th>1335</th>\n",
       "      <td>18</td>\n",
       "      <td>0</td>\n",
       "      <td>36.850</td>\n",
       "      <td>0</td>\n",
       "      <td>no</td>\n",
       "      <td>southeast</td>\n",
       "      <td>7.396233</td>\n",
       "    </tr>\n",
       "    <tr>\n",
       "      <th>1336</th>\n",
       "      <td>21</td>\n",
       "      <td>0</td>\n",
       "      <td>25.800</td>\n",
       "      <td>0</td>\n",
       "      <td>no</td>\n",
       "      <td>southwest</td>\n",
       "      <td>7.604867</td>\n",
       "    </tr>\n",
       "    <tr>\n",
       "      <th>1337</th>\n",
       "      <td>61</td>\n",
       "      <td>0</td>\n",
       "      <td>29.070</td>\n",
       "      <td>0</td>\n",
       "      <td>yes</td>\n",
       "      <td>northwest</td>\n",
       "      <td>10.279914</td>\n",
       "    </tr>\n",
       "  </tbody>\n",
       "</table>\n",
       "<p>1338 rows × 7 columns</p>\n",
       "</div>"
      ],
      "text/plain": [
       "      age sex     bmi  children smoker     region  log_charges\n",
       "0      19   0  27.900         0    yes  southwest     9.734176\n",
       "1      18   1  33.770         1     no  southeast     7.453302\n",
       "2      28   1  33.000         3     no  southeast     8.400538\n",
       "3      33   1  22.705         0     no  northwest     9.998092\n",
       "4      32   1  28.880         0     no  northwest     8.260197\n",
       "...   ...  ..     ...       ...    ...        ...          ...\n",
       "1333   50   1  30.970         3     no  northwest     9.268661\n",
       "1334   18   0  31.920         0     no  northeast     7.698927\n",
       "1335   18   0  36.850         0     no  southeast     7.396233\n",
       "1336   21   0  25.800         0     no  southwest     7.604867\n",
       "1337   61   0  29.070         0    yes  northwest    10.279914\n",
       "\n",
       "[1338 rows x 7 columns]"
      ]
     },
     "execution_count": 162,
     "metadata": {},
     "output_type": "execute_result"
    }
   ],
   "source": [
    "df = pd.read_csv('https://raw.githubusercontent.com/Shevyakow/-/main/insurance.csv')\n",
    "df['charges']=np.log(df['charges'])\n",
    "df.rename(columns={'charges':'log_charges'}, inplace=True)\n",
    "df['sex'] = df['sex'].replace(['male','female'], ['1', '0'])\n",
    "#df['smoker'] = df['smoker'].replace(['yes','no'], ['1', '0'])\n",
    "df"
   ]
  },
  {
   "cell_type": "markdown",
   "id": "737c83a1",
   "metadata": {},
   "source": [
    "$$\n",
    "chrges=\\beta_1*age+\\beta_2*sex+\\beta_3*children+\\beta_4*bmi\n",
    "$$"
   ]
  },
  {
   "cell_type": "code",
   "execution_count": 218,
   "id": "deb6bc8a",
   "metadata": {},
   "outputs": [
    {
     "data": {
      "text/plain": [
       "Intercept    7.32\n",
       "age          0.03\n",
       "children     0.11\n",
       "bmi          0.01\n",
       "dtype: float64"
      ]
     },
     "execution_count": 218,
     "metadata": {},
     "output_type": "execute_result"
    }
   ],
   "source": [
    "fitted_line = smf.ols(formula='log_charges~age+children+bmi', data=df).fit() \n",
    "fitted_line.params.round(2)"
   ]
  },
  {
   "cell_type": "markdown",
   "id": "512aa09f",
   "metadata": {},
   "source": [
    "## Спецификация\n",
    "$$\n",
    "log(charges)=7.32+0.03*age+0.11*children+0.01*bmi\n",
    "$$"
   ]
  },
  {
   "cell_type": "markdown",
   "id": "8dbdd639",
   "metadata": {},
   "source": [
    "# Интерпретация\n",
    "### При увеличении  возраста на 1 год, стоимость страховки увеличивается на 3%, при увеличении количества детей (людей), на которых распространяется страховка, на 1 её стоимость увеличивается на 11%. При увеличении индекса массы тела на 1 стоимость страховки увеличивается на 1%. "
   ]
  },
  {
   "cell_type": "code",
   "execution_count": 109,
   "id": "99c3786a",
   "metadata": {
    "scrolled": true
   },
   "outputs": [
    {
     "data": {
      "text/plain": [
       "<AxesSubplot:xlabel='bmi', ylabel='log_charges'>"
      ]
     },
     "execution_count": 109,
     "metadata": {},
     "output_type": "execute_result"
    },
    {
     "data": {
      "image/png": "[encoded data removed]",
      "text/plain": [
       "<Figure size 432x288 with 1 Axes>"
      ]
     },
     "metadata": {
      "needs_background": "light"
     },
     "output_type": "display_data"
    }
   ],
   "source": [
    "sns.regplot(data=df, y='log_charges', x='bmi', ci=None, line_kws={\"color\": \"g\"})"
   ]
  },
  {
   "cell_type": "code",
   "execution_count": 110,
   "id": "b9efb328",
   "metadata": {},
   "outputs": [
    {
     "data": {
      "text/plain": [
       "Intercept    7.32\n",
       "age          0.03\n",
       "children     0.11\n",
       "bmi          0.01\n",
       "dtype: float64"
      ]
     },
     "execution_count": 110,
     "metadata": {},
     "output_type": "execute_result"
    }
   ],
   "source": [
    "fitted_polynom = smf.ols(formula='log_charges~age+children+bmi', data=df).fit() \n",
    "fitted_polynom.params.round(2)"
   ]
  },
  {
   "cell_type": "code",
   "execution_count": 126,
   "id": "896a3015",
   "metadata": {
    "scrolled": true
   },
   "outputs": [
    {
     "data": {
      "text/plain": [
       "<AxesSubplot:xlabel='bmi', ylabel='log_charges'>"
      ]
     },
     "execution_count": 126,
     "metadata": {},
     "output_type": "execute_result"
    },
    {
     "data": {
      "image/png": "[encoded data removed]",
      "text/plain": [
       "<Figure size 432x288 with 1 Axes>"
      ]
     },
     "metadata": {
      "needs_background": "light"
     },
     "output_type": "display_data"
    }
   ],
   "source": [
    "sns.regplot(data=df, y='log_charges', x='bmi',order=13, ci=None, line_kws={\"color\": \"g\"})"
   ]
  },
  {
   "cell_type": "markdown",
   "id": "ff77de78",
   "metadata": {},
   "source": [
    "# При увеличении порядка регрессионной кривой, точность регрессии увеличивается вплоть до 13 порядка"
   ]
  },
  {
   "cell_type": "code",
   "execution_count": 127,
   "id": "af705177",
   "metadata": {},
   "outputs": [
    {
     "data": {
      "text/plain": [
       "343.058"
      ]
     },
     "execution_count": 127,
     "metadata": {},
     "output_type": "execute_result"
    }
   ],
   "source": [
    "fitted_line.ess.round(3)"
   ]
  },
  {
   "cell_type": "code",
   "execution_count": 128,
   "id": "4dd063e4",
   "metadata": {},
   "outputs": [
    {
     "data": {
      "text/plain": [
       "1130.474"
      ]
     },
     "execution_count": 128,
     "metadata": {},
     "output_type": "execute_result"
    }
   ],
   "source": [
    "fitted_line.centered_tss.round(3)"
   ]
  },
  {
   "cell_type": "code",
   "execution_count": 129,
   "id": "ef12142a",
   "metadata": {
    "scrolled": true
   },
   "outputs": [
    {
     "data": {
      "text/plain": [
       "787.415"
      ]
     },
     "execution_count": 129,
     "metadata": {},
     "output_type": "execute_result"
    }
   ],
   "source": [
    "fitted_line.ssr.round(3)"
   ]
  },
  {
   "cell_type": "markdown",
   "id": "f7bf94d5",
   "metadata": {},
   "source": [
    "# T-тест (1 способ)\n"
   ]
  },
  {
   "cell_type": "code",
   "execution_count": 130,
   "id": "c5eac665",
   "metadata": {
    "scrolled": true
   },
   "outputs": [
    {
     "data": {
      "text/html": [
       "<table class=\"simpletable\">\n",
       "<tr>\n",
       "      <td></td>         <th>coef</th>     <th>std err</th>      <th>t</th>      <th>P>|t|</th>  <th>[0.025</th>    <th>0.975]</th>  \n",
       "</tr>\n",
       "<tr>\n",
       "  <th>Intercept</th> <td>    7.3189</td> <td>    0.119</td> <td>   61.643</td> <td> 0.000</td> <td>    7.086</td> <td>    7.552</td>\n",
       "</tr>\n",
       "<tr>\n",
       "  <th>age</th>       <td>    0.0336</td> <td>    0.002</td> <td>   22.331</td> <td> 0.000</td> <td>    0.031</td> <td>    0.037</td>\n",
       "</tr>\n",
       "<tr>\n",
       "  <th>children</th>  <td>    0.1057</td> <td>    0.017</td> <td>    6.058</td> <td> 0.000</td> <td>    0.071</td> <td>    0.140</td>\n",
       "</tr>\n",
       "<tr>\n",
       "  <th>bmi</th>       <td>    0.0113</td> <td>    0.003</td> <td>    3.252</td> <td> 0.001</td> <td>    0.004</td> <td>    0.018</td>\n",
       "</tr>\n",
       "</table>"
      ],
      "text/plain": [
       "<class 'statsmodels.iolib.table.SimpleTable'>"
      ]
     },
     "execution_count": 130,
     "metadata": {},
     "output_type": "execute_result"
    }
   ],
   "source": [
    "de=fitted_line.summary(alpha=0.05).tables[1]\n",
    "de"
   ]
  },
  {
   "cell_type": "code",
   "execution_count": 131,
   "id": "eb870e2b",
   "metadata": {
    "scrolled": true
   },
   "outputs": [
    {
     "data": {
      "text/plain": [
       "<class 'statsmodels.stats.contrast.ContrastResults'>\n",
       "                             Test for Constraints                             \n",
       "==============================================================================\n",
       "                 coef    std err          t      P>|t|      [0.025      0.975]\n",
       "------------------------------------------------------------------------------\n",
       "c0             0.0336      0.002     22.331      0.000       0.031       0.037\n",
       "=============================================================================="
      ]
     },
     "execution_count": 131,
     "metadata": {},
     "output_type": "execute_result"
    }
   ],
   "source": [
    "fitted_line.t_test('age=0')"
   ]
  },
  {
   "cell_type": "markdown",
   "id": "94b1e2be",
   "metadata": {},
   "source": [
    "# Критическое значение Стьюдента меньше чем наблюдаемое, следовательно коэффициент $ age$ значим. Возраст влияет на стоимость страховки"
   ]
  },
  {
   "cell_type": "code",
   "execution_count": 226,
   "id": "86014738",
   "metadata": {
    "scrolled": true
   },
   "outputs": [
    {
     "data": {
      "text/plain": [
       "1.962"
      ]
     },
     "execution_count": 226,
     "metadata": {},
     "output_type": "execute_result"
    }
   ],
   "source": [
    "t_cr=stats.t.ppf(1-0.05/2,len(df)-4)\n",
    "t_cr.round(3)"
   ]
  },
  {
   "cell_type": "code",
   "execution_count": 135,
   "id": "ba06eab2",
   "metadata": {},
   "outputs": [
    {
     "data": {
      "text/plain": [
       "<class 'statsmodels.stats.contrast.ContrastResults'>\n",
       "                             Test for Constraints                             \n",
       "==============================================================================\n",
       "                 coef    std err          t      P>|t|      [0.025      0.975]\n",
       "------------------------------------------------------------------------------\n",
       "c0             0.1057      0.017      6.058      0.000       0.071       0.140\n",
       "=============================================================================="
      ]
     },
     "execution_count": 135,
     "metadata": {},
     "output_type": "execute_result"
    }
   ],
   "source": [
    "fitted_line.t_test('children=0')"
   ]
  },
  {
   "cell_type": "markdown",
   "id": "995e98ac",
   "metadata": {},
   "source": [
    "# Критическое значение Стьюдента меньше чем наблюдаемое, следовательно коэффициент $ children$ значим. Количество детей(людей), вписанных в страховку влияет на её стоимость. "
   ]
  },
  {
   "cell_type": "code",
   "execution_count": 134,
   "id": "71f5da56",
   "metadata": {
    "scrolled": true
   },
   "outputs": [
    {
     "data": {
      "text/plain": [
       "<class 'statsmodels.stats.contrast.ContrastResults'>\n",
       "                             Test for Constraints                             \n",
       "==============================================================================\n",
       "                 coef    std err          t      P>|t|      [0.025      0.975]\n",
       "------------------------------------------------------------------------------\n",
       "c0             0.0113      0.003      3.252      0.001       0.004       0.018\n",
       "=============================================================================="
      ]
     },
     "execution_count": 134,
     "metadata": {},
     "output_type": "execute_result"
    }
   ],
   "source": [
    "fitted_line.t_test('bmi=0')"
   ]
  },
  {
   "cell_type": "code",
   "execution_count": 133,
   "id": "539ce33f",
   "metadata": {},
   "outputs": [
    {
     "data": {
      "text/plain": [
       "1.962"
      ]
     },
     "execution_count": 133,
     "metadata": {},
     "output_type": "execute_result"
    }
   ],
   "source": [
    "t_cr=stats.t.ppf(1-0.05/2,len(df)-4)\n",
    "t_cr.round(3)"
   ]
  },
  {
   "cell_type": "markdown",
   "id": "3253cdd7",
   "metadata": {},
   "source": [
    "# Наблюдаемое значение Стьюдента больше чем критическое, значит коэффициент $bmi$ значим. Индекс массы тела влияет на стоимость страховки. "
   ]
  },
  {
   "cell_type": "markdown",
   "id": "cd4d7d4d",
   "metadata": {},
   "source": [
    "# Т-тест (2 способ)\n"
   ]
  },
  {
   "cell_type": "code",
   "execution_count": 136,
   "id": "f34bb4c9",
   "metadata": {
    "scrolled": false
   },
   "outputs": [
    {
     "data": {
      "text/html": [
       "<div>\n",
       "<style scoped>\n",
       "    .dataframe tbody tr th:only-of-type {\n",
       "        vertical-align: middle;\n",
       "    }\n",
       "\n",
       "    .dataframe tbody tr th {\n",
       "        vertical-align: top;\n",
       "    }\n",
       "\n",
       "    .dataframe thead th {\n",
       "        text-align: right;\n",
       "    }\n",
       "</style>\n",
       "<table border=\"1\" class=\"dataframe\">\n",
       "  <thead>\n",
       "    <tr style=\"text-align: right;\">\n",
       "      <th></th>\n",
       "      <th>coef</th>\n",
       "      <th>std.err</th>\n",
       "      <th>t</th>\n",
       "      <th>Значение</th>\n",
       "      <th>Значимость</th>\n",
       "    </tr>\n",
       "  </thead>\n",
       "  <tbody>\n",
       "    <tr>\n",
       "      <th>Intercept</th>\n",
       "      <td>7.3189</td>\n",
       "      <td>0.119</td>\n",
       "      <td>61.643</td>\n",
       "      <td>61.503361</td>\n",
       "      <td>значимо</td>\n",
       "    </tr>\n",
       "    <tr>\n",
       "      <th>age</th>\n",
       "      <td>0.0336</td>\n",
       "      <td>0.002</td>\n",
       "      <td>22.331</td>\n",
       "      <td>16.800000</td>\n",
       "      <td>значимо</td>\n",
       "    </tr>\n",
       "    <tr>\n",
       "      <th>children</th>\n",
       "      <td>0.1057</td>\n",
       "      <td>0.017</td>\n",
       "      <td>6.058</td>\n",
       "      <td>6.217647</td>\n",
       "      <td>значимо</td>\n",
       "    </tr>\n",
       "    <tr>\n",
       "      <th>bmi</th>\n",
       "      <td>0.0113</td>\n",
       "      <td>0.003</td>\n",
       "      <td>3.252</td>\n",
       "      <td>3.766667</td>\n",
       "      <td>значимо</td>\n",
       "    </tr>\n",
       "  </tbody>\n",
       "</table>\n",
       "</div>"
      ],
      "text/plain": [
       "             coef  std.err       t   Значение Значимость\n",
       "Intercept  7.3189    0.119  61.643  61.503361    значимо\n",
       "age        0.0336    0.002  22.331  16.800000    значимо\n",
       "children   0.1057    0.017   6.058   6.217647    значимо\n",
       "bmi        0.0113    0.003   3.252   3.766667    значимо"
      ]
     },
     "execution_count": 136,
     "metadata": {},
     "output_type": "execute_result"
    }
   ],
   "source": [
    "strr='''coef  std.err t \n",
    "Intercept 7.3189 0.119 61.643 \n",
    "age 0.0336 0.002 22.331 \n",
    "children   0.1057   0.017   6.058\n",
    "bmi  0.0113  0.003   3.252'''\n",
    "ded=pd.read_csv(io.StringIO(strr), delimiter='\\s+')\n",
    "ded['Значение'] =np.abs(ded['coef']/ded['std.err'])\n",
    "alpha = 0.05\n",
    "t_cr1 = stats.t.ppf(1 - alpha/2, len(df)-4)\n",
    "ded['Значимость'] = ded.apply(lambda x : 'значимо' if abs(x['Значение']) > t_cr1 else 'не значимо', axis=1)\n",
    "ded"
   ]
  },
  {
   "cell_type": "markdown",
   "id": "77492bd9",
   "metadata": {},
   "source": [
    "# Все коэффициенты регрессии значимы"
   ]
  },
  {
   "cell_type": "markdown",
   "id": "59c34709",
   "metadata": {},
   "source": [
    "# F-тест"
   ]
  },
  {
   "cell_type": "markdown",
   "id": "905339c2",
   "metadata": {},
   "source": [
    "# $$H_0:age=bmi=0$$\n"
   ]
  },
  {
   "cell_type": "code",
   "execution_count": 145,
   "id": "615cd26a",
   "metadata": {},
   "outputs": [
    {
     "name": "stdout",
     "output_type": "stream",
     "text": [
      "0.303 0.284\n",
      "18.182 199.5\n"
     ]
    }
   ],
   "source": [
    "fitted_line1 = smf.ols(formula='log_charges~age+bmi', data=df).fit() \n",
    "R2_1=fitted_line.rsquared.round(3)\n",
    "R2_2=fitted_line1.rsquared.round(3)\n",
    "print(R2_1,R2_2)\n",
    "unrest, rest = np.float_(re.findall(r'([-+]?\\d+.\\d+)','R2                      0.303          0.284'))\n",
    "F_nab=(unrest-rest)/(1-unrest)*(len(df)-4)/2\n",
    "F_nab\n",
    "alpha=0.05\n",
    "F_cr = stats.f.ppf(1-alpha,2,len(de)-4)\n",
    "print(F_nab.round(3),F_cr.round(3))"
   ]
  },
  {
   "cell_type": "markdown",
   "id": "9c806213",
   "metadata": {},
   "source": [
    "# $ F_{nab}<F_{cr} \\rightarrow$ совместное влияние коэффициентов $age$ и $bmi$ незначимо"
   ]
  },
  {
   "cell_type": "markdown",
   "id": "49746203",
   "metadata": {},
   "source": [
    "# $$H_0:children=bmi=0$$"
   ]
  },
  {
   "cell_type": "code",
   "execution_count": 147,
   "id": "98cc82c5",
   "metadata": {},
   "outputs": [
    {
     "name": "stdout",
     "output_type": "stream",
     "text": [
      "0.303 0.043\n",
      "248.809 199.5\n"
     ]
    }
   ],
   "source": [
    "fitted_line2 = smf.ols(formula='log_charges~children+bmi', data=df).fit() \n",
    "R2_1=fitted_line.rsquared.round(3)\n",
    "R2_2=fitted_line2.rsquared.round(3)\n",
    "print(R2_1,R2_2)\n",
    "unrest, rest = np.float_(re.findall(r'([-+]?\\d+.\\d+)','R2                      0.303          0.043'))\n",
    "F_nab=(unrest-rest)/(1-unrest)*(len(df)-4)/2\n",
    "F_nab\n",
    "alpha=0.05\n",
    "F_cr = stats.f.ppf(1-alpha,2,len(de)-4)\n",
    "print(F_nab.round(3),F_cr.round(3))"
   ]
  },
  {
   "cell_type": "markdown",
   "id": "69113988",
   "metadata": {},
   "source": [
    "# $ F_{nab}>F_{cr} \\rightarrow$ совместное влияние коэффициентов $children$ и $bmi$ значимо"
   ]
  },
  {
   "cell_type": "markdown",
   "id": "9b062f36",
   "metadata": {},
   "source": [
    "# $$H_0:age=children=0$$"
   ]
  },
  {
   "cell_type": "code",
   "execution_count": 149,
   "id": "872c88af",
   "metadata": {},
   "outputs": [
    {
     "name": "stdout",
     "output_type": "stream",
     "text": [
      "0.303 0.298\n",
      "4.785 199.5\n"
     ]
    }
   ],
   "source": [
    "fitted_line3 = smf.ols(formula='log_charges~children+age', data=df).fit() \n",
    "R2_1=fitted_line.rsquared.round(3)\n",
    "R2_2=fitted_line3.rsquared.round(3)\n",
    "print(R2_1,R2_2)\n",
    "unrest, rest = np.float_(re.findall(r'([-+]?\\d+.\\d+)','R2                      0.303          0.298'))\n",
    "F_nab=(unrest-rest)/(1-unrest)*(len(df)-4)/2\n",
    "F_nab\n",
    "alpha=0.05\n",
    "F_cr = stats.f.ppf(1-alpha,2,len(de)-4)\n",
    "print(F_nab.round(3),F_cr.round(3))"
   ]
  },
  {
   "cell_type": "markdown",
   "id": "da9bd118",
   "metadata": {},
   "source": [
    "# $ F_{nab}<F_{cr} \\rightarrow$ совместное влияние коэффициентов $age$ и $children$ незначимо"
   ]
  },
  {
   "cell_type": "markdown",
   "id": "27bf843e",
   "metadata": {},
   "source": [
    "# Структурные сдвиги"
   ]
  },
  {
   "cell_type": "code",
   "execution_count": 165,
   "id": "9279990b",
   "metadata": {},
   "outputs": [
    {
     "name": "stdout",
     "output_type": "stream",
     "text": [
      "1294.921 2.612\n"
     ]
    }
   ],
   "source": [
    "df_default = df[df['smoker']=='no']\n",
    "df_ndefault = df[df['smoker']=='yes']\n",
    "duf = smf.ols(data=df, formula='log_charges~age+children+bmi').fit()\n",
    "d_default = smf.ols(data= df_default, formula='log_charges~age+children+bmi').fit()\n",
    "d_ndefault = smf.ols(data= df_ndefault, formula='log_charges~age+children+bmi').fit()\n",
    "F_obs=(duf.ssr-(d_default.ssr+d_ndefault.ssr))/(d_default.ssr+d_ndefault.ssr)*((len(df_default)+len(df_ndefault)-2*3)/(3))\n",
    "F_obs.round(3)\n",
    "alpha = 0.05\n",
    "F_cr=stats.f.ppf(1-alpha,3,len( df_default ) + len( df_ndefault ) - 6  )\n",
    "print(F_obs.round(3), F_cr.round(3))"
   ]
  },
  {
   "cell_type": "markdown",
   "id": "fe9a86e9",
   "metadata": {},
   "source": [
    "# $ F_{nab}>F_{cr} =>$ стурктурные изменения значимы"
   ]
  },
  {
   "cell_type": "markdown",
   "id": "1bdebc10",
   "metadata": {},
   "source": [
    "# Доверительный интервал"
   ]
  },
  {
   "cell_type": "code",
   "execution_count": 185,
   "id": "b9881b0b",
   "metadata": {},
   "outputs": [
    {
     "data": {
      "text/html": [
       "<div>\n",
       "<style scoped>\n",
       "    .dataframe tbody tr th:only-of-type {\n",
       "        vertical-align: middle;\n",
       "    }\n",
       "\n",
       "    .dataframe tbody tr th {\n",
       "        vertical-align: top;\n",
       "    }\n",
       "\n",
       "    .dataframe thead th {\n",
       "        text-align: right;\n",
       "    }\n",
       "</style>\n",
       "<table border=\"1\" class=\"dataframe\">\n",
       "  <thead>\n",
       "    <tr style=\"text-align: right;\">\n",
       "      <th></th>\n",
       "      <th>нижняя</th>\n",
       "      <th>верхняя</th>\n",
       "    </tr>\n",
       "  </thead>\n",
       "  <tbody>\n",
       "    <tr>\n",
       "      <th>0</th>\n",
       "      <td>7.09</td>\n",
       "      <td>7.55</td>\n",
       "    </tr>\n",
       "    <tr>\n",
       "      <th>1</th>\n",
       "      <td>0.03</td>\n",
       "      <td>0.04</td>\n",
       "    </tr>\n",
       "    <tr>\n",
       "      <th>2</th>\n",
       "      <td>0.07</td>\n",
       "      <td>0.14</td>\n",
       "    </tr>\n",
       "    <tr>\n",
       "      <th>3</th>\n",
       "      <td>0.01</td>\n",
       "      <td>0.02</td>\n",
       "    </tr>\n",
       "  </tbody>\n",
       "</table>\n",
       "</div>"
      ],
      "text/plain": [
       "   нижняя  верхняя\n",
       "0    7.09     7.55\n",
       "1    0.03     0.04\n",
       "2    0.07     0.14\n",
       "3    0.01     0.02"
      ]
     },
     "execution_count": 185,
     "metadata": {},
     "output_type": "execute_result"
    }
   ],
   "source": [
    "string=''' \n",
    "Intercept   7.3189   0.119\n",
    "age\t0.0336   0.002\n",
    "children   0.1057   0.017\n",
    "bmi   0.0113   0.003'''\n",
    "dn = pd.DataFrame(np.reshape(string.strip().split(), (4,3) ), columns=['Coeff','Est str','std.err. str'])\n",
    "dn['Estimate'] = dn['Est str'].str.extract(r'([-+]?\\d+.\\d+)').astype(float)\n",
    "dn['Std.error'] = dn['std.err. str'].str.extract(r'([-+]?\\d+.\\d+)').astype(float)\n",
    "dn['нижняя'] = (dn['Estimate'] - dn['Std.error']*t_cr1).round(2)\n",
    "dn['верхняя'] = (dn['Estimate'] + dn['Std.error']*t_cr1).round(2)\n",
    "dn= dn.drop(['Coeff','Est str','std.err. str', 'Estimate', 'Std.error'], axis=1)\n",
    "dn"
   ]
  },
  {
   "cell_type": "markdown",
   "id": "360d97f4",
   "metadata": {},
   "source": [
    "# Гетеросхедостичность"
   ]
  },
  {
   "cell_type": "code",
   "execution_count": 219,
   "id": "0ab3c62a",
   "metadata": {},
   "outputs": [
    {
     "name": "stdout",
     "output_type": "stream",
     "text": [
      "296.75 7.814727903251179\n"
     ]
    }
   ],
   "source": [
    "df['res2']=fitted_line.resid**2\n",
    "df['res']=fitted_line.resid\n",
    "sub_model= smf.ols(data=df, formula='res2~age+children+bmi').fit()\n",
    "St = np.round(len(df)*sub_model.rsquared,2)\n",
    "Hi2 = stats.chi2.ppf(1-0.05,3)\n",
    "print(St,Hi2)"
   ]
  },
  {
   "cell_type": "markdown",
   "id": "f87a0888",
   "metadata": {
    "scrolled": true
   },
   "source": [
    "# $St>Hi^2 \\rightarrow$ тест указывает на гетерсхедостичность"
   ]
  },
  {
   "cell_type": "markdown",
   "id": "5c2d4dba",
   "metadata": {},
   "source": [
    "# Серийная корреляция"
   ]
  },
  {
   "cell_type": "markdown",
   "id": "c6527443",
   "metadata": {},
   "source": [
    "$ H_0: \\rho =0 $, $H_1: \\rho \\neq 0$"
   ]
  },
  {
   "cell_type": "code",
   "execution_count": 220,
   "id": "69a120b6",
   "metadata": {},
   "outputs": [
    {
     "name": "stdout",
     "output_type": "stream",
     "text": [
      "2.026942909201159\n"
     ]
    }
   ],
   "source": [
    "model = smf.ols(data=df, formula='log_charges~age+children+bmi').fit()\n",
    "model.params.round(2)\n",
    "resSq = sum(model.resid**2)\n",
    "sum_resid = 0\n",
    "for i in range(len(model.resid)-1):\n",
    "    sum_resid+=(model.resid[i+1]-model.resid[i])**2\n",
    "print(sum_resid/resSq)"
   ]
  },
  {
   "cell_type": "markdown",
   "id": "a8f7af9e",
   "metadata": {},
   "source": [
    "# Значение тестовой статистики Дарбина-Уотсона находится в промежутке от 2 до 4 $\\rightarrow$ $H_0$ об отсутствии серийной корреляции отвергается. Наблюдается серийная корреляция. "
   ]
  },
  {
   "cell_type": "code",
   "execution_count": null,
   "id": "03305d80",
   "metadata": {},
   "outputs": [],
   "source": []
  }
 ],
 "metadata": {
  "kernelspec": {
   "display_name": "Python 3 (ipykernel)",
   "language": "python",
   "name": "python3"
  },
  "language_info": {
   "codemirror_mode": {
    "name": "ipython",
    "version": 3
   },
   "file_extension": ".py",
   "mimetype": "text/x-python",
   "name": "python",
   "nbconvert_exporter": "python",
   "pygments_lexer": "ipython3",
   "version": "3.9.7"
  }
 },
 "nbformat": 4,
 "nbformat_minor": 5
}
